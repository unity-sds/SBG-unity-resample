{
 "cells": [
  {
   "cell_type": "markdown",
   "id": "e7940462-0604-453e-bb6f-5a1d21c0800b",
   "metadata": {},
   "source": [
    "SBG - Spectral Resample Process - Application Notebook"
   ]
  },
  {
   "cell_type": "code",
   "execution_count": 1,
   "id": "80e2815e-0ec7-4b9e-a127-7a835de23370",
   "metadata": {},
   "outputs": [],
   "source": [
    "import json\n",
    "import shutil\n",
    "import sys\n",
    "import os\n",
    "import hytools as ht\n",
    "from hytools.io.envi import WriteENVI\n",
    "import numpy as np\n",
    "from scipy.interpolate import interp1d\n",
    "from skimage.util import view_as_blocks\n",
    "from PIL import Image\n",
    "from pathlib import Path\n",
    "import glob\n",
    "\n",
    "# stage_in packages\n",
    "from unity_sds_client.resources.collection import Collection"
   ]
  },
  {
   "cell_type": "markdown",
   "id": "a599c2b5-c346-43f1-bb38-42efe12fb557",
   "metadata": {},
   "source": [
    "Resampling Code"
   ]
  },
  {
   "cell_type": "code",
   "execution_count": 24,
   "id": "cf65dcf7-6acd-41d0-a69b-ce94655f7065",
   "metadata": {},
   "outputs": [],
   "source": [
    "def generate_metadata(in_file,out_file,metadata):\n",
    "\n",
    "    with open(in_file, 'r') as in_obj:\n",
    "        in_met =json.load(in_obj)\n",
    "\n",
    "    for key,value in metadata.items():\n",
    "        in_met[key] = value\n",
    "\n",
    "    with open(out_file, 'w') as out_obj:\n",
    "        json.dump(in_met,out_obj,indent=3)\n",
    "\n",
    "def gaussian(x,mu,fwhm):\n",
    "\n",
    "    c = fwhm/(2* np.sqrt(2*np.log(2)))\n",
    "    return np.exp(-1*((x-mu)**2/(2*c**2)))\n",
    "\n",
    "def resample(in_file,out_file):\n",
    "\n",
    "    image = ht.HyTools()\n",
    "    image.read_file(in_file,'envi')\n",
    "\n",
    "    if image.wavelengths.max()< 1100:\n",
    "        new_waves = np.arange(400,991,10)\n",
    "    else:\n",
    "        new_waves = np.arange(400,2501,10)\n",
    "\n",
    "    bins = int(np.round(10/np.diff(image.wavelengths).mean()))\n",
    "    agg_waves  = np.nanmean(view_as_blocks(image.wavelengths[:(image.bands//bins) * bins],\n",
    "                                           (bins,)),axis=1)\n",
    "\n",
    "    if bins ==1 :\n",
    "        agg_fwhm  = image.fwhm\n",
    "\n",
    "    else:\n",
    "        hi_res_waves = np.arange(300,2600)\n",
    "        fwhm_array = np.zeros((image.bands,2600-300))\n",
    "\n",
    "        for i,(wave,fwhm) in enumerate(zip(image.wavelengths,image.fwhm)):\n",
    "            fwhm_array[i] = gaussian(hi_res_waves,wave,fwhm)\n",
    "\n",
    "        sum_fwhm  = np.nansum(view_as_blocks(fwhm_array[:(image.bands//bins) * bins],\n",
    "                                               (bins,2600-300)),axis=(1,2))\n",
    "        agg_fwhm = []\n",
    "        for i in range(len(agg_waves)):\n",
    "            arg_max = np.argmax(sum_fwhm[i])\n",
    "            half_max =  sum_fwhm[i].max()/2\n",
    "            diff = np.abs(sum_fwhm[i]-half_max)\n",
    "            end = arg_max + np.argmin(diff[arg_max:])\n",
    "            start = np.argmin(diff[:arg_max])\n",
    "            agg_fwhm.append(hi_res_waves[end] - hi_res_waves[start])\n",
    "\n",
    "    #True resampled FWHM is difficult to determine, using a simple nearest neighbor approximation\n",
    "    resampled_fwhm = interp1d(agg_waves,agg_fwhm,fill_value = 'extrapolate', kind = 'nearest')(new_waves)\n",
    "\n",
    "    print(f\"Aggregating every {bins} bands\")\n",
    "\n",
    "    out_header = image.get_header()\n",
    "    out_header['bands'] = len(new_waves)\n",
    "    out_header['wavelength'] = new_waves.tolist()\n",
    "    out_header['fwhm'] = resampled_fwhm\n",
    "    out_header['default bands'] = []\n",
    "\n",
    "    if  \"UNC\" in in_file:\n",
    "        out_header['description'] ='10 nm resampled reflectance uncertainty'\n",
    "    else:\n",
    "        out_header['description'] ='10 nm resampled reflectance'\n",
    "\n",
    "    writer = WriteENVI(out_file,out_header)\n",
    "    iterator =image.iterate(by = 'line')\n",
    "\n",
    "    while not iterator.complete:\n",
    "        line = iterator.read_next()[:,:(image.bands//bins) * bins]\n",
    "        line  = np.nanmean(view_as_blocks(line,(1,bins,)),axis=(2,3))\n",
    "        interpolator = interp1d(agg_waves,line,fill_value = 'extrapolate', kind = 'cubic')\n",
    "        line = interpolator(new_waves)\n",
    "        writer.write_line(line,iterator.current_line)\n",
    "\n",
    "def generate_quicklook(input_file):\n",
    "\n",
    "    img = ht.HyTools()\n",
    "    img.read_file(input_file)\n",
    "    image_file = input_file.replace('.bin','.png')\n",
    "\n",
    "    if 'DESIS' in img.base_name:\n",
    "        band3 = img.get_wave(560)\n",
    "        band2 = img.get_wave(850)\n",
    "        band1 = img.get_wave(660)\n",
    "    else:\n",
    "        band3 = img.get_wave(560)\n",
    "        band2 = img.get_wave(850)\n",
    "        band1 = img.get_wave(1660)\n",
    "\n",
    "    rgb=  np.stack([band1,band2,band3])\n",
    "    rgb[rgb == img.no_data] = np.nan\n",
    "\n",
    "    rgb = np.moveaxis(rgb,0,-1).astype(float)\n",
    "    bottom = np.nanpercentile(rgb,5,axis = (0,1))\n",
    "    top = np.nanpercentile(rgb,95,axis = (0,1))\n",
    "    rgb = np.clip(rgb,bottom,top)\n",
    "    rgb = (rgb-np.nanmin(rgb,axis=(0,1)))/(np.nanmax(rgb,axis= (0,1))-np.nanmin(rgb,axis= (0,1)))\n",
    "    rgb = (rgb*255).astype(np.uint8)\n",
    "\n",
    "    im = Image.fromarray(rgb)\n",
    "    im.save(image_file)"
   ]
  },
  {
   "cell_type": "markdown",
   "id": "29748c49-101b-45ad-b7f0-079c87712b0c",
   "metadata": {},
   "source": [
    "Inputs and Configurations\n",
    "\n",
    "In the original pre-process, inputs are supplied by a run_config file. This consists of 2 entries (a reflectance file, uncertainty file, and a CRID).\n",
    "\n",
    "In the Unity system, the data files required will be staged in for the application, and the crid is a config item that is passed in. To make this work in Unity, we will also pass in an \"output collection\" which is needed if we want to \"persist\" the output products in the data catalog.\n"
   ]
  },
  {
   "cell_type": "code",
   "execution_count": 25,
   "id": "fbbc6339-b4ee-4282-ae70-ff8c017f9f5c",
   "metadata": {},
   "outputs": [],
   "source": [
    "#Retrieve Reflectance Dataset\n",
    "input_resample_dataset    = '/unity/ads/input_collections/SBG-L2A-RESAMPLE/catalog.json' # type: stage-in\n",
    "output_stac_catalog_dir   = '/unity/ads/outputs/SBG-L2A-RESAMPLE/' # type: stage-out\n",
    "\n",
    "output_collection_name    = 'example-L2A-Resample-Collect'\n",
    "\n",
    "#Pre-process variables\n",
    "#From the config.json, retrieve the following information:\n",
    "crid = \"000\" #hardcoded but will be passed in "
   ]
  },
  {
   "cell_type": "markdown",
   "id": "f265c43f-b678-4900-ab81-24cb13c89635",
   "metadata": {},
   "source": [
    "Import Files from STAC Item Collection"
   ]
  },
  {
   "cell_type": "code",
   "execution_count": 26,
   "id": "202ee5b4-03bf-4e06-9a5f-4a1ca2f1ae4b",
   "metadata": {},
   "outputs": [
    {
     "data": {
      "text/plain": [
       "['/unity/ads/input_collections/SBG-L2A-RESAMPLE/./SISTER_AVNG_L2A_RSRFL_20220502T180901_001.bin',\n",
       " '/unity/ads/input_collections/SBG-L2A-RESAMPLE/./SISTER_AVNG_L2A_RSRFL_20220502T180901_001_RSUNC.bin']"
      ]
     },
     "execution_count": 26,
     "metadata": {},
     "output_type": "execute_result"
    }
   ],
   "source": [
    "inp_collection = Collection.from_stac(input_resample_dataset)\n",
    "data_filenames = inp_collection.data_locations()\n",
    "\n",
    "data_filenames"
   ]
  },
  {
   "cell_type": "markdown",
   "id": "2a35d73f-1188-43de-91b6-e8ab728543bb",
   "metadata": {},
   "source": [
    "Get the data files from the STAC files"
   ]
  },
  {
   "cell_type": "code",
   "execution_count": 30,
   "id": "400c89d8-c346-4ef1-8e42-55cba88a8005",
   "metadata": {},
   "outputs": [
    {
     "name": "stdout",
     "output_type": "stream",
     "text": [
      "Reflectance File:/unity/ads/input_collections/SBG-L2A-RESAMPLE/./SISTER_AVNG_L2A_RSRFL_20220502T180901_001.bin\n",
      "Output path:/unity/ads/outputs/SBG-L2A-RESAMPLE//SISTER_AVNG_L2A_RSRFL_20220502T180901_000.met.json\n",
      "Uncertainty File:SISTER_AVNG_L2A_RSRFL_20220502T180901_001_RSUNC\n",
      "Output path:/unity/ads/outputs/SBG-L2A-RESAMPLE//SISTER_AVNG_L2A_RSRFL_20220502T180901_000_UNC.met.json\n"
     ]
    }
   ],
   "source": [
    "for f in data_filenames:\n",
    "    if \"_UNC.bin\" in f:\n",
    "        unc_base_name = Path(f).stem\n",
    "        unc_file = f\n",
    "    else:\n",
    "        rfl_base_name = Path(f).stem\n",
    "        rfl_file = f\n",
    "\n",
    "sister,sensor,level,product,datetime,in_crid = rfl_base_name.split('_')\n",
    "\n",
    "rfl_met = rfl_file.replace('.bin','.met.json')\n",
    "\n",
    "out_rfl_file =  f'{output_stac_catalog_dir}/SISTER_{sensor}_L2A_RSRFL_{datetime}_{crid}.bin'\n",
    "out_rfl_met = out_rfl_file.replace('.bin','.met.json')\n",
    "\n",
    "print(\"Reflectance File:\" + rfl_file)\n",
    "print(\"Output path:\" + out_rfl_met)\n",
    "\n",
    "\n",
    "sister,sensor,level,product,datetime,in_crid,subproduct = unc_base_name.split('_')\n",
    "\n",
    "unc_met = unc_file.replace('.bin','.met.json')\n",
    "\n",
    "out_unc_file =  f'{output_stac_catalog_dir}/SISTER_{sensor}_L2A_RSRFL_{datetime}_{crid}_UNC.bin'\n",
    "out_unc_met = out_unc_file.replace('.bin','.met.json')\n",
    "\n",
    "print(\"Uncertainty File:\" + unc_base_name)\n",
    "print(\"Output path:\" + out_unc_met)\n"
   ]
  },
  {
   "cell_type": "markdown",
   "id": "3f593bf2-8346-47b9-b5a3-91f3ae7742ce",
   "metadata": {},
   "source": [
    "Resampling Commands"
   ]
  },
  {
   "cell_type": "code",
   "execution_count": null,
   "id": "e56aff95-146b-4a4c-888f-039fb69ec290",
   "metadata": {},
   "outputs": [],
   "source": [
    "resample(rfl_file, out_rfl_file)\n",
    "resample(unc_file, out_unc_file)\n",
    "\n",
    "generate_metadata(rfl_met,out_rfl_met,\n",
    "                      {'product': 'RSRFL',\n",
    "                      'processing_level': 'L2A',\n",
    "                      'description' : '10nm resampled reflectance'})\n",
    "\n",
    "generate_metadata(unc_met,out_unc_met,\n",
    "                      {'product': 'RSUNC',\n",
    "                      'processing_level': 'L2A',\n",
    "                      'description' : '10nm resampled uncertainty'})\n",
    "\n",
    "generate_quicklook(out_rfl_file)\n",
    "\n",
    "shutil.copyfile(run_config_json,out_rfl_file.replace('.bin','.runconfig.json'))\n",
    "\n",
    "shutil.copyfile('run.log',out_rfl_file.replace('.bin','.log'))"
   ]
  },
  {
   "cell_type": "markdown",
   "id": "e4bc2b4e-65df-404e-b691-3a88a509abfb",
   "metadata": {},
   "source": [
    "Create stage-out item catalog"
   ]
  },
  {
   "cell_type": "code",
   "execution_count": 38,
   "id": "95612056-d202-4df3-af62-0a9f7a211dba",
   "metadata": {},
   "outputs": [
    {
     "name": "stdout",
     "output_type": "stream",
     "text": [
      "['/unity/ads/outputs/SBG-L2A-RESAMPLE/SISTER_AVNG_L2A_RSRFL_20220502T180901_001_RSUNC.met.json', '/unity/ads/outputs/SBG-L2A-RESAMPLE/SISTER_AVNG_L2A_RSRFL_20220502T180901_001.met.json', '/unity/ads/outputs/SBG-L2A-RESAMPLE/SISTER_AVNG_L2A_RSRFL_20220502T180901_001.runconfig.json']\n"
     ]
    },
    {
     "ename": "FileNotFoundError",
     "evalue": "[Errno 2] No such file or directory: '/unity/ads/outputs/SBG-L2A-RESAMPLE///unity/ads/outputs/SBG-L2A-RESAMPLE/SISTER_AVNG_L2A_RSRFL_20220502T180901_001_RSUNC.met.met.json'",
     "output_type": "error",
     "traceback": [
      "\u001b[0;31m---------------------------------------------------------------------------\u001b[0m",
      "\u001b[0;31mFileNotFoundError\u001b[0m                         Traceback (most recent call last)",
      "Cell \u001b[0;32mIn[38], line 10\u001b[0m\n\u001b[1;32m      7\u001b[0m name\u001b[38;5;241m=\u001b[39mos\u001b[38;5;241m.\u001b[39mpath\u001b[38;5;241m.\u001b[39msplitext(data_files[\u001b[38;5;241m0\u001b[39m])[\u001b[38;5;241m0\u001b[39m]\n\u001b[1;32m      9\u001b[0m \u001b[38;5;66;03m# Get some metadata from met.json file\u001b[39;00m\n\u001b[0;32m---> 10\u001b[0m \u001b[38;5;28;01mwith\u001b[39;00m \u001b[38;5;28;43mopen\u001b[39;49m\u001b[43m(\u001b[49m\u001b[43moutput_stac_catalog_dir\u001b[49m\u001b[43m \u001b[49m\u001b[38;5;241;43m+\u001b[39;49m\u001b[43m \u001b[49m\u001b[38;5;124;43m\"\u001b[39;49m\u001b[38;5;124;43m/\u001b[39;49m\u001b[38;5;124;43m\"\u001b[39;49m\u001b[43m \u001b[49m\u001b[38;5;241;43m+\u001b[39;49m\u001b[43m \u001b[49m\u001b[43mname\u001b[49m\u001b[38;5;241;43m+\u001b[39;49m\u001b[38;5;124;43m\"\u001b[39;49m\u001b[38;5;124;43m.met.json\u001b[39;49m\u001b[38;5;124;43m\"\u001b[39;49m\u001b[43m)\u001b[49m \u001b[38;5;28;01mas\u001b[39;00m metadata:\n\u001b[1;32m     11\u001b[0m     md_dict \u001b[38;5;241m=\u001b[39m json\u001b[38;5;241m.\u001b[39mload(metadata)\n\u001b[1;32m     12\u001b[0m     start_time \u001b[38;5;241m=\u001b[39m md_dict[\u001b[38;5;124m'\u001b[39m\u001b[38;5;124mstart_time\u001b[39m\u001b[38;5;124m'\u001b[39m]\n",
      "File \u001b[0;32m/opt/conda/envs/sister/lib/python3.8/site-packages/IPython/core/interactiveshell.py:284\u001b[0m, in \u001b[0;36m_modified_open\u001b[0;34m(file, *args, **kwargs)\u001b[0m\n\u001b[1;32m    277\u001b[0m \u001b[38;5;28;01mif\u001b[39;00m file \u001b[38;5;129;01min\u001b[39;00m {\u001b[38;5;241m0\u001b[39m, \u001b[38;5;241m1\u001b[39m, \u001b[38;5;241m2\u001b[39m}:\n\u001b[1;32m    278\u001b[0m     \u001b[38;5;28;01mraise\u001b[39;00m \u001b[38;5;167;01mValueError\u001b[39;00m(\n\u001b[1;32m    279\u001b[0m         \u001b[38;5;124mf\u001b[39m\u001b[38;5;124m\"\u001b[39m\u001b[38;5;124mIPython won\u001b[39m\u001b[38;5;124m'\u001b[39m\u001b[38;5;124mt let you open fd=\u001b[39m\u001b[38;5;132;01m{\u001b[39;00mfile\u001b[38;5;132;01m}\u001b[39;00m\u001b[38;5;124m by default \u001b[39m\u001b[38;5;124m\"\u001b[39m\n\u001b[1;32m    280\u001b[0m         \u001b[38;5;124m\"\u001b[39m\u001b[38;5;124mas it is likely to crash IPython. If you know what you are doing, \u001b[39m\u001b[38;5;124m\"\u001b[39m\n\u001b[1;32m    281\u001b[0m         \u001b[38;5;124m\"\u001b[39m\u001b[38;5;124myou can use builtins\u001b[39m\u001b[38;5;124m'\u001b[39m\u001b[38;5;124m open.\u001b[39m\u001b[38;5;124m\"\u001b[39m\n\u001b[1;32m    282\u001b[0m     )\n\u001b[0;32m--> 284\u001b[0m \u001b[38;5;28;01mreturn\u001b[39;00m \u001b[43mio_open\u001b[49m\u001b[43m(\u001b[49m\u001b[43mfile\u001b[49m\u001b[43m,\u001b[49m\u001b[43m \u001b[49m\u001b[38;5;241;43m*\u001b[39;49m\u001b[43margs\u001b[49m\u001b[43m,\u001b[49m\u001b[43m \u001b[49m\u001b[38;5;241;43m*\u001b[39;49m\u001b[38;5;241;43m*\u001b[39;49m\u001b[43mkwargs\u001b[49m\u001b[43m)\u001b[49m\n",
      "\u001b[0;31mFileNotFoundError\u001b[0m: [Errno 2] No such file or directory: '/unity/ads/outputs/SBG-L2A-RESAMPLE///unity/ads/outputs/SBG-L2A-RESAMPLE/SISTER_AVNG_L2A_RSRFL_20220502T180901_001_RSUNC.met.met.json'"
     ]
    }
   ],
   "source": [
    "# Create a collection\n",
    "out_collection = Collection(\"L2A_resample\")\n",
    "\n",
    "data_files = glob.glob(output_stac_catalog_dir+\"/SISTER*.json\") \n",
    "\n",
    "print(data_files)\n",
    "name=os.path.splitext(data_files[0])[0]\n",
    "\n",
    "# Get some metadata from met.json file\n",
    "with open(output_stac_catalog_dir + \"/\" + name+\".met.json\") as metadata:\n",
    "    md_dict = json.load(metadata)\n",
    "    start_time = md_dict['start_time']\n",
    "    end_time = md_dict['end_time']\n",
    "\n",
    "# Create a Dataset for the collection\n",
    "dataset = Dataset(\n",
    "    name=name, \n",
    "    collection_id=out_collection.collection_id, \n",
    "    start_time=start_time, \n",
    "    end_time=end_time,\n",
    "    creation_time=datetime.utcnow().replace(tzinfo=timezone.utc).isoformat(),\n",
    ")\n",
    "\n",
    "# Add output file(s) to the dataset\n",
    "for file in glob.glob(output_stac_catalog_dir+\"/SISTER*\"):\n",
    "    key = 'data'\n",
    "    dataset.add_data_file(DataFile(key, file))\n",
    "\n",
    "# the future metadata file needs to be added to the STAC as well\n",
    "    # will eventually be moved into the to_stac() function\n",
    "dataset.add_data_file(DataFile(\"metadata\", output_stac_catalog_dir + '/' +  name +'.json' ))\n",
    "\n",
    "\n",
    "# Add the dataset to the collection\n",
    "out_collection._datasets.append(dataset)\n",
    "\n",
    "Collection.to_stac(out_collection, output_stac_catalog_dir)\n",
    "\n",
    "\n",
    "\n"
   ]
  },
  {
   "cell_type": "code",
   "execution_count": null,
   "id": "9b20e6fb-6863-4421-ad27-bad065f8f388",
   "metadata": {},
   "outputs": [],
   "source": []
  }
 ],
 "metadata": {
  "kernelspec": {
   "display_name": "Python 3 (ipykernel)",
   "language": "python",
   "name": "python3"
  },
  "language_info": {
   "codemirror_mode": {
    "name": "ipython",
    "version": 3
   },
   "file_extension": ".py",
   "mimetype": "text/x-python",
   "name": "python",
   "nbconvert_exporter": "python",
   "pygments_lexer": "ipython3",
   "version": "3.8.18"
  }
 },
 "nbformat": 4,
 "nbformat_minor": 5
}
